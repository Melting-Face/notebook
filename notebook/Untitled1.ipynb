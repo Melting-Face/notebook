{
 "cells": [
  {
   "cell_type": "code",
   "execution_count": 14,
   "id": "7db3e137-ff15-4f20-81b0-9905c2f90900",
   "metadata": {},
   "outputs": [],
   "source": [
    "from itertools import permutations\n",
    "n = 3\n",
    "nums = [i for i in range(1, n + 1)]\n",
    "items = list(permutations(nums, 3))\n",
    "\n",
    "# items = list(permutations(nums, len(nums)))\n",
    "# \"\".join([str(num) for num in items[3]])"
   ]
  }
 ],
 "metadata": {
  "kernelspec": {
   "display_name": "Python 3 (ipykernel)",
   "language": "python",
   "name": "python3"
  },
  "language_info": {
   "codemirror_mode": {
    "name": "ipython",
    "version": 3
   },
   "file_extension": ".py",
   "mimetype": "text/x-python",
   "name": "python",
   "nbconvert_exporter": "python",
   "pygments_lexer": "ipython3",
   "version": "3.12.12"
  }
 },
 "nbformat": 4,
 "nbformat_minor": 5
}
