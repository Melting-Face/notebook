{
 "cells": [
  {
   "cell_type": "markdown",
   "id": "4a43959e-2285-4248-9e58-d14f0c6ddd6e",
   "metadata": {},
   "source": [
    "# R 실습 코드\n",
    "### 패키지 설치"
   ]
  },
  {
   "cell_type": "code",
   "execution_count": 3,
   "id": "70611565-5bba-4918-b518-51a8ef50dc8b",
   "metadata": {},
   "outputs": [
    {
     "name": "stderr",
     "output_type": "stream",
     "text": [
      "Updating HTML index of packages in '.Library'\n",
      "\n",
      "Making 'packages.html' ...\n",
      " done\n",
      "\n",
      "Updating HTML index of packages in '.Library'\n",
      "\n",
      "Making 'packages.html' ...\n",
      " done\n",
      "\n",
      "Updating HTML index of packages in '.Library'\n",
      "\n",
      "Making 'packages.html' ...\n",
      " done\n",
      "\n",
      "Updating HTML index of packages in '.Library'\n",
      "\n",
      "Making 'packages.html' ...\n",
      " done\n",
      "\n"
     ]
    }
   ],
   "source": [
    "install.packages(\"caret\", repos=\"https://cloud.r-project.org\")\n",
    "\n",
    "# 의사결정트리 패키지 설치\n",
    "install.packages(\"rpart\", repos=\"https://cloud.r-project.org\")\n",
    "\n",
    "# 나이브베이즈 패키지 설치\n",
    "install.packages(\"e1071\", repos=\"https://cloud.r-project.org\")\n",
    "\n",
    "# 앙상블(랜덤포레스트) 패키지 설치\n",
    "install.packages(\"randomForest\", repos=\"https://cloud.r-project.org\")"
   ]
  },
  {
   "cell_type": "code",
   "execution_count": 2,
   "id": "822cd305-2556-43ef-b28f-87582f2b60a4",
   "metadata": {},
   "outputs": [
    {
     "name": "stderr",
     "output_type": "stream",
     "text": [
      "Loading required package: ggplot2\n",
      "\n",
      "Loading required package: lattice\n",
      "\n",
      "Warning message:\n",
      "“Your system is mis-configured: ‘/var/db/timezone/localtime’ is not a symlink”\n",
      "Warning message:\n",
      "“‘/var/db/timezone/localtime’ is not identical to any known timezone file”\n"
     ]
    },
    {
     "data": {
      "text/plain": [
       "\n",
       "    setosa versicolor  virginica \n",
       "        35         35         35 "
      ]
     },
     "metadata": {},
     "output_type": "display_data"
    },
    {
     "data": {
      "text/plain": [
       "\n",
       "    setosa versicolor  virginica \n",
       "        15         15         15 "
      ]
     },
     "metadata": {},
     "output_type": "display_data"
    }
   ],
   "source": [
    "library(caret)\n",
    "# 훈련용 데이터 70% 평가용 데이터 30%로 나눈 인덱스 생성\n",
    "idx <- createDataPartition(\n",
    "    iris$Species,\n",
    "    p=0.7,\n",
    "    list=F\n",
    ")\n",
    "# 훈련용 데이터 추출\n",
    "iris_train<-iris[idx,]\n",
    "# 평가용 데이터 추출\n",
    "iris_test<-iris[-idx,]\n",
    "# 훈련용 데이터 Species 분포\n",
    "table(iris_train$Species)\n",
    "# 평가용 데이터 Species 분포\n",
    "table(iris_test$Species)"
   ]
  },
  {
   "cell_type": "code",
   "execution_count": 4,
   "id": "5bc6dcee-a326-4aa2-a308-d4046b6e0d1b",
   "metadata": {},
   "outputs": [
    {
     "name": "stderr",
     "output_type": "stream",
     "text": [
      "\n",
      "Attaching package: ‘e1071’\n",
      "\n",
      "\n",
      "The following object is masked from ‘package:ggplot2’:\n",
      "\n",
      "    element\n",
      "\n",
      "\n",
      "randomForest 4.7-1.2\n",
      "\n",
      "Type rfNews() to see new features/changes/bug fixes.\n",
      "\n",
      "\n",
      "Attaching package: ‘randomForest’\n",
      "\n",
      "\n",
      "The following object is masked from ‘package:ggplot2’:\n",
      "\n",
      "    margin\n",
      "\n",
      "\n"
     ]
    }
   ],
   "source": [
    "library(rpart)\n",
    "library(e1071)\n",
    "library(randomForest)\n",
    "# 의사결정트리\n",
    "rpart.iris<-rpart(Species~., data=iris_train)\n",
    "# 나이브베이즈\n",
    "bayes.iris<-naiveBayes(Species~., data=iris_train)\n",
    "# 랜덤포레스트\n",
    "rdf.iris<-randomForest(Species~., data=iris_train, importance=T)\n",
    "# 각 머신러닝 기법별 예측\n",
    "rpart.pred<-predict(rpart.iris, newdata=iris_test, type=\"class\")\n",
    "bayes.pred<-predict(bayes.iris, newdata=iris_test, type=\"class\")\n",
    "rdf.pred<-predict(rdf.iris, newdata=iris_test, type=\"class\")"
   ]
  },
  {
   "cell_type": "code",
   "execution_count": 5,
   "id": "75892f67-4916-4141-b9f2-c9883b8e613c",
   "metadata": {},
   "outputs": [
    {
     "data": {
      "text/plain": [
       "            rpart.pred\n",
       "             setosa versicolor virginica\n",
       "  setosa         15          0         0\n",
       "  versicolor      0         14         1\n",
       "  virginica       0          0        15"
      ]
     },
     "metadata": {},
     "output_type": "display_data"
    },
    {
     "data": {
      "text/plain": [
       "            bayes.pred\n",
       "             setosa versicolor virginica\n",
       "  setosa         15          0         0\n",
       "  versicolor      0         15         0\n",
       "  virginica       0          0        15"
      ]
     },
     "metadata": {},
     "output_type": "display_data"
    },
    {
     "data": {
      "text/plain": [
       "            rdf.pred\n",
       "             setosa versicolor virginica\n",
       "  setosa         15          0         0\n",
       "  versicolor      0         14         1\n",
       "  virginica       0          0        15"
      ]
     },
     "metadata": {},
     "output_type": "display_data"
    }
   ],
   "source": [
    "table(iris_test$Species, rpart.pred)\n",
    "table(iris_test$Species, bayes.pred)\n",
    "table(iris_test$Species, rdf.pred)"
   ]
  },
  {
   "cell_type": "code",
   "execution_count": 6,
   "id": "b6214175-a8c0-4a5d-8059-c32dcb26f276",
   "metadata": {},
   "outputs": [
    {
     "data": {
      "text/plain": [
       "Confusion Matrix and Statistics\n",
       "\n",
       "            Reference\n",
       "Prediction   setosa versicolor virginica\n",
       "  setosa         15          0         0\n",
       "  versicolor      0         14         0\n",
       "  virginica       0          1        15\n",
       "\n",
       "Overall Statistics\n",
       "                                          \n",
       "               Accuracy : 0.9778          \n",
       "                 95% CI : (0.8823, 0.9994)\n",
       "    No Information Rate : 0.3333          \n",
       "    P-Value [Acc > NIR] : < 2.2e-16       \n",
       "                                          \n",
       "                  Kappa : 0.9667          \n",
       "                                          \n",
       " Mcnemar's Test P-Value : NA              \n",
       "\n",
       "Statistics by Class:\n",
       "\n",
       "                     Class: setosa Class: versicolor Class: virginica\n",
       "Sensitivity                 1.0000            0.9333           1.0000\n",
       "Specificity                 1.0000            1.0000           0.9667\n",
       "Pos Pred Value              1.0000            1.0000           0.9375\n",
       "Neg Pred Value              1.0000            0.9677           1.0000\n",
       "Prevalence                  0.3333            0.3333           0.3333\n",
       "Detection Rate              0.3333            0.3111           0.3333\n",
       "Detection Prevalence        0.3333            0.3111           0.3556\n",
       "Balanced Accuracy           1.0000            0.9667           0.9833"
      ]
     },
     "metadata": {},
     "output_type": "display_data"
    }
   ],
   "source": [
    "confusionMatrix(\n",
    "    rpart.pred,\n",
    "    iris_test$Species,\n",
    "    positive=\"versicolor\"\n",
    ")"
   ]
  },
  {
   "cell_type": "code",
   "execution_count": 7,
   "id": "c5882a56-1de9-44f8-90d0-713b34f32bae",
   "metadata": {},
   "outputs": [
    {
     "data": {
      "text/plain": [
       "Confusion Matrix and Statistics\n",
       "\n",
       "            Reference\n",
       "Prediction   setosa versicolor virginica\n",
       "  setosa         15          0         0\n",
       "  versicolor      0         15         0\n",
       "  virginica       0          0        15\n",
       "\n",
       "Overall Statistics\n",
       "                                     \n",
       "               Accuracy : 1          \n",
       "                 95% CI : (0.9213, 1)\n",
       "    No Information Rate : 0.3333     \n",
       "    P-Value [Acc > NIR] : < 2.2e-16  \n",
       "                                     \n",
       "                  Kappa : 1          \n",
       "                                     \n",
       " Mcnemar's Test P-Value : NA         \n",
       "\n",
       "Statistics by Class:\n",
       "\n",
       "                     Class: setosa Class: versicolor Class: virginica\n",
       "Sensitivity                 1.0000            1.0000           1.0000\n",
       "Specificity                 1.0000            1.0000           1.0000\n",
       "Pos Pred Value              1.0000            1.0000           1.0000\n",
       "Neg Pred Value              1.0000            1.0000           1.0000\n",
       "Prevalence                  0.3333            0.3333           0.3333\n",
       "Detection Rate              0.3333            0.3333           0.3333\n",
       "Detection Prevalence        0.3333            0.3333           0.3333\n",
       "Balanced Accuracy           1.0000            1.0000           1.0000"
      ]
     },
     "metadata": {},
     "output_type": "display_data"
    }
   ],
   "source": [
    "confusionMatrix(\n",
    "    bayes.pred,\n",
    "    iris_test$Species,\n",
    "    positive=\"versicolor\"\n",
    ")"
   ]
  },
  {
   "cell_type": "code",
   "execution_count": 8,
   "id": "7084dfc9-e9d5-457a-a8f3-3dbf58f2c752",
   "metadata": {},
   "outputs": [
    {
     "data": {
      "text/plain": [
       "Confusion Matrix and Statistics\n",
       "\n",
       "            Reference\n",
       "Prediction   setosa versicolor virginica\n",
       "  setosa         15          0         0\n",
       "  versicolor      0         14         0\n",
       "  virginica       0          1        15\n",
       "\n",
       "Overall Statistics\n",
       "                                          \n",
       "               Accuracy : 0.9778          \n",
       "                 95% CI : (0.8823, 0.9994)\n",
       "    No Information Rate : 0.3333          \n",
       "    P-Value [Acc > NIR] : < 2.2e-16       \n",
       "                                          \n",
       "                  Kappa : 0.9667          \n",
       "                                          \n",
       " Mcnemar's Test P-Value : NA              \n",
       "\n",
       "Statistics by Class:\n",
       "\n",
       "                     Class: setosa Class: versicolor Class: virginica\n",
       "Sensitivity                 1.0000            0.9333           1.0000\n",
       "Specificity                 1.0000            1.0000           0.9667\n",
       "Pos Pred Value              1.0000            1.0000           0.9375\n",
       "Neg Pred Value              1.0000            0.9677           1.0000\n",
       "Prevalence                  0.3333            0.3333           0.3333\n",
       "Detection Rate              0.3333            0.3111           0.3333\n",
       "Detection Prevalence        0.3333            0.3111           0.3556\n",
       "Balanced Accuracy           1.0000            0.9667           0.9833"
      ]
     },
     "metadata": {},
     "output_type": "display_data"
    }
   ],
   "source": [
    "confusionMatrix(\n",
    "    rdf.pred,\n",
    "    iris_test$Species,\n",
    "    positive=\"versicolor\"\n",
    ")"
   ]
  }
 ],
 "metadata": {
  "kernelspec": {
   "display_name": "R (irkernel)",
   "language": "R",
   "name": "r"
  },
  "language_info": {
   "codemirror_mode": "r",
   "file_extension": ".r",
   "mimetype": "text/x-r-source",
   "name": "R",
   "pygments_lexer": "r",
   "version": "4.5.0"
  }
 },
 "nbformat": 4,
 "nbformat_minor": 5
}
