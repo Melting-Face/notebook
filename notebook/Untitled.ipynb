{
 "cells": [
  {
   "cell_type": "code",
   "execution_count": 29,
   "id": "e238dceb-674b-4203-a753-f43c977ad75c",
   "metadata": {},
   "outputs": [
    {
     "name": "stdout",
     "output_type": "stream",
     "text": [
      "1 8 0 0 1\n",
      "1 6 0 1 1\n",
      "1 2 0 2 1\n",
      "1 5 0 3 1\n",
      "1 4 0 4 1\n",
      "1 8 0 5 1\n",
      "1 3 0 6 1\n",
      "1 7 0 7 1\n",
      "8 6 1 0 6\n",
      "8 2 1 1 2\n",
      "8 5 1 2 5\n",
      "8 4 1 3 4\n",
      "8 8 1 4 8\n",
      "8 3 1 5 3\n",
      "8 7 1 6 7\n",
      "6 2 2 0 2\n",
      "6 5 2 1 5\n",
      "6 4 2 2 4\n",
      "6 8 2 3 6\n",
      "6 3 2 4 3\n",
      "6 7 2 5 6\n",
      "2 5 3 0 2\n",
      "2 4 3 1 2\n",
      "2 8 3 2 2\n",
      "2 3 3 3 2\n",
      "2 7 3 4 2\n",
      "5 4 4 0 4\n",
      "5 8 4 1 5\n",
      "5 3 4 2 3\n",
      "5 7 4 3 5\n",
      "4 8 5 0 4\n",
      "4 3 5 1 3\n",
      "4 7 5 2 4\n",
      "8 3 6 0 3\n",
      "8 7 6 1 7\n",
      "3 7 7 0 3\n",
      "49\n"
     ]
    }
   ],
   "source": [
    "height = [1,8,6,2,5,4,8,3,7]\n",
    "\n",
    "max_water = 0\n",
    "\n",
    "for i, left in enumerate(height):\n",
    "    \n",
    "    for j, right in enumerate(height[i+1:]):\n",
    "        print(left, right, i, j, min(left, right))\n",
    "        max_water = max(\n",
    "            min(left, right) * (j + 1),\n",
    "            max_water,\n",
    "        )\n",
    "\n",
    "print(max_water)\n",
    "        "
   ]
  },
  {
   "cell_type": "code",
   "execution_count": 3,
   "id": "ed45adf6-229e-4e2a-a459-88decbd1bc2d",
   "metadata": {},
   "outputs": [
    {
     "data": {
      "text/plain": [
       "2147483648"
      ]
     },
     "execution_count": 3,
     "metadata": {},
     "output_type": "execute_result"
    }
   ],
   "source": [
    "dividend = -2147483648\n",
    "divisor = -1\n",
    "if dividend >= (pow(2, 31) - 1):\n",
    "    dividend = (pow(2, 31) - 1)\n",
    "if dividend <= -pow(2, 31):\n",
    "    dividend = -pow(2, 31)\n",
    "result = int(dividend / divisor)\n",
    "dividend = (pow(2, 31) - 1)"
   ]
  },
  {
   "cell_type": "code",
   "execution_count": 11,
   "id": "eda3db84-3a23-4788-a7e6-b5f08f9eecd2",
   "metadata": {},
   "outputs": [
    {
     "name": "stdout",
     "output_type": "stream",
     "text": [
      "[[1, 1, 1], [1, 2, 3]]\n"
     ]
    }
   ],
   "source": [
    "m = 3\n",
    "n = 2\n",
    "paths = [[1 for _ in range(m)] for _ in range(n)]\n",
    "for i in range(1, n):\n",
    "    for j in range(1, m):\n",
    "        paths[i][j] = paths[i - 1][j] + paths[i][j - 1]\n",
    "print(paths)"
   ]
  },
  {
   "cell_type": "code",
   "execution_count": 30,
   "id": "a77e64ec-1a02-425e-b93f-c4ab92350c26",
   "metadata": {},
   "outputs": [
    {
     "data": {
      "text/plain": [
       "0"
      ]
     },
     "execution_count": 30,
     "metadata": {},
     "output_type": "execute_result"
    }
   ],
   "source": [
    "s = \"words and 987\"\n",
    "# s = \"0-1\"\n",
    "s = s.strip()\n",
    "is_minus = False\n",
    "if s.startswith(\"-\"):\n",
    "    is_minus = True\n",
    "    s = s[1:]\n",
    "elif s.startswith(\"+\"):\n",
    "    is_minus = False\n",
    "    s = s[1:]\n",
    "nums = {str(i) for i in range(0, 10)}\n",
    "result = \"\"\n",
    "for char in s:\n",
    "    if char not in nums:\n",
    "        break\n",
    "    result += char\n",
    "if not result:\n",
    "    result = 0\n",
    "int(result) * (-1 if is_minus else 1)"
   ]
  },
  {
   "cell_type": "code",
   "execution_count": 38,
   "id": "a78c1921-ebdb-43c0-a8aa-668527583198",
   "metadata": {},
   "outputs": [
    {
     "data": {
      "text/plain": [
       "2.5"
      ]
     },
     "execution_count": 38,
     "metadata": {},
     "output_type": "execute_result"
    }
   ],
   "source": [
    "from statistics import median\n",
    "num1, num2 = [1,2], [3, 4]\n",
    "median(sorted(num1 + num2))"
   ]
  },
  {
   "cell_type": "code",
   "execution_count": 31,
   "id": "9c6775ae-a598-4742-8f93-95ead3f085cc",
   "metadata": {},
   "outputs": [
    {
     "name": "stdout",
     "output_type": "stream",
     "text": [
      "49\n"
     ]
    }
   ],
   "source": [
    "left = 0\n",
    "right = len(height) - 1\n",
    "\n",
    "while left < right:\n",
    "    max_water = max(right - left * min(height[left], height[right]), max_water)\n",
    "    if height[left] <  height[right]:\n",
    "        left += 1\n",
    "        continue\n",
    "    right -= 1\n",
    "\n",
    "print(max_water)"
   ]
  }
 ],
 "metadata": {
  "kernelspec": {
   "display_name": "Python 3 (ipykernel)",
   "language": "python",
   "name": "python3"
  },
  "language_info": {
   "codemirror_mode": {
    "name": "ipython",
    "version": 3
   },
   "file_extension": ".py",
   "mimetype": "text/x-python",
   "name": "python",
   "nbconvert_exporter": "python",
   "pygments_lexer": "ipython3",
   "version": "3.12.12"
  }
 },
 "nbformat": 4,
 "nbformat_minor": 5
}
